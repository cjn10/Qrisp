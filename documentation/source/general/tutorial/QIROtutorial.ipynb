{
 "cells": [
  {
   "cell_type": "markdown",
   "id": "07531e6f",
   "metadata": {},
   "source": [
    "# Quantum-Informed Recursive Optimization\n",
    "\n",
    "This tutorial will give you an overview of problem specific implementations for solving optimization problems with the [Quantum Approximate Optimization Algorithm (QAOA)](/reference/Algorithms/qaoa/QAOA.html).\n",
    "\n",
    "The Quantum Approximate Optimization Algorithm (QAOA), is used to solve combinatorical optimization problem instances of NP-hard problems. For further information see our [tutorial on QAOA](QAOAtutorial/index.html)! \n",
    "\n",
    "The paper [Quantum-Informed Recursive Optimization Algorithms (2023)](https://journals.aps.org/prxquantum/abstract/10.1103/PRXQuantum.5.020327) by J. Finzgar et. al. establishes a blueprint for developing alogrithms that update the problem instance recursively, based on the correlations in results obtained by QAOA.\n",
    "While QAOA cost functions are designed with specific problem instances in mind, this research has shown promising improvements to this to approach by further leveraging the problem structure.\n",
    "\n",
    "We have implemented this approach for different problem instances, namely [MaxClique](../../reference/Algorithms/qiro/implementations/QIROMaxClique.rst), [MaxIndependentSet](../../reference/Algorithms/qiro/implementations/QIROMaxIndep.rst), [MaxSat](../../reference/Algorithms/qiro/implementations/QIROMaxSat.rst) and [MaxSetPacking](../../reference/Algorithms/qiro/implementations/QIROMaxSetPack.rst). The explanation below tackles the [Maximum Indepent Set (MIS)](https://en.wikipedia.org/wiki/Maximal_independent_set) problem, in analogy to the original paper by Finzgar et. al."
   ]
  },
  {
   "cell_type": "markdown",
   "id": "2f4c6d41",
   "metadata": {},
   "source": [
    "## Starting point of the algorithm\n",
    "\n",
    "The algorithm evaluates the result of a [QAOA](../../reference/Algorithms/qaoa/QAOA.rst) optimization procedure to establish correlations in the solution space, then recursively updates the problem structure. We will further assume that you are already mostly familiar with QAOA.  \n",
    "\n",
    "The MIS is defined via a graph with a set of vertices $V$ and a set of edges $E$ . To solve this optimization problem, one has to find the maximum number of vertices, where none of the vertices share a common edge, i.e. we want to find\n",
    "\n",
    "$$ \\max \\left( |V'| , V' \\subset V \\right), \\text{ where } \\sum_{ i, j \\in V' } \\mathbb{1}_{(i,j) \\in E} = 0 $$\n",
    "\n",
    "The QAOA cost operator has the form \n",
    "\n",
    "$$H_C = - \\sum_{i \\in V} ( \\textbf{1} - Z_i ) + 3  \\sum_{i,j \\in E} ( \\textbf{1} - Z_i )( \\textbf{1} - Z_j ),$$\n",
    "\n",
    "and the mixer operator is\n",
    "\n",
    "$$H_M = - \\sum_{i \\in V} Z_i .$$\n",
    "\n",
    "Executing the optimization loop of our QAOA implementation of depth $p$ will result in the state \n",
    "\n",
    "$$|\\psi\\rangle = e^{i \\beta^{*}_{p-1} H_M} e^{i \\gamma^{*}_{p-1} H_C} \\dotsb e^{i \\beta^{*}_0 H_M} e^{i \\gamma^{*}_0 H_C} ( |0\\rangle + |1\\rangle )^{\\otimes n},$$\n",
    "\n",
    "with $n$ being the number of vertices in the graph. The parameters $\\{\\gamma^{*}_{p-1}, \\beta^{*}_{p-1}, \\dotsc, \\gamma^{*}_0 , \\beta^{*}_0 \\}$ represent the optimized QAOA angles.\n",
    "This state $|\\psi\\rangle$ is the starting point of the **Quantum-Informed Recursive Optimization** considerations."
   ]
  },
  {
   "cell_type": "markdown",
   "id": "792c5acb",
   "metadata": {},
   "source": [
    "## Establishing correlations \n",
    "\n",
    "We quickly want to motivate the search for correlations with the arguments made in the original paper. For further detail we again refer to the original paper by [J. Finzgar et. al.](https://journals.aps.org/prxquantum/abstract/10.1103/PRXQuantum.5.020327) \n",
    "\n",
    "Firstly, QAOA is a local algorithm, which was shown to severely limit its performance. In turn, applying non-local updates classically has been proposed, i.e., in recursive QAOA (RQAOA) implementations. Values of variables are iteratively frozen as given by the correlations in the measurements of\n",
    "the quantum state prepared in a QAOA optimization routine. In QIRO, this information is used to recursively decrease the size of the problem instance by introducing problem-specific classical optimization routines. With this, new connections between previously unconnected nodes non-local effects are introduced, counterbalancing the locality inherent to QAOA.\n",
    "\n",
    "\n",
    "For any problem specific QIRO implementation the next step is to evaluate the expected correlations in the solution space, i.e., computing the values of the matrix $\\text{M}$, where\n",
    "$\\text{M}_{ii} = \\langle\\psi| Z_i |\\psi\\rangle$ and $\\text{M}_{ij} = \\langle\\psi| Z_i Z_j |\\psi\\rangle$.\n",
    "\n",
    "We then need to find the **maximum absolute value** of $\\text{M}$."
   ]
  },
  {
   "cell_type": "markdown",
   "id": "5343377b",
   "metadata": {},
   "source": [
    "## Reducing the problem \n",
    "\n",
    "Based on the **maximum absolute entry** of the correlation matrix M and its sign, one of the following replacements is employed:\n",
    "\n",
    "* If $\\text{M}_{ii} \\geq 0$ is the maximum absolute value, then the $i$-th vertex is set to be in the independent set (IS). In turn, all vertices that share an edge with this vertex can be removed from the graph, since including them in the solution would violate the problem constraints.\n",
    "\n",
    "* If $\\text{M}_{ii} < 0$ is the maximum absolute value, we remove $i$-th vertex from the graph.\n",
    "\n",
    "* If $\\text{M}_{ij} > 0, (i, j) ∈ E$ was selected, we remove both vertices from the graph with the argument, that, since both of them would be in the same state in the final solution, including both as part of the solution would violate the constraint, as they share an edge. In turn, they can be removed from the graph. \n",
    "\n",
    "* If $\\text{M}_{ij} < 0, (i, j) ∈ E$ was selected, we remove all vertices that share an edge with both vertices $i$ and $j$. Since one of the vertices $i$ and $j$ will be part of the final solution (but not both), any vertex that is connected to both $i$ and $j$ is guaranteed to violate the problem constraints, and can be removed from the graph. In this case, it may be possible that no vertex is found to be a canditate for being removed. We will then simply choose the second biggest absolute value of **M** for the replacement routine.\n",
    "\n",
    "\n",
    "These operations are performed on a copy of the ``networkx`` graph that was provided to the instance of the [QIROProblem](../../reference/Algorithms/qiro/QIRO.rst) class, see the code example below. \n",
    "Based on the reduced problem graph, the ``cost_operator``, ``mixer``, and ``init_function`` are updated.\n",
    "Subsequently, we optimize the parameters for the simplified ``QAOAProblem`` instance, and reduce the problem again with the same subroutine as described above."
   ]
  },
  {
   "cell_type": "markdown",
   "id": "8547a144",
   "metadata": {},
   "source": [
    "## The final solution\n",
    "\n",
    "The after a specific number of recursions the final solution is returned as the result of a ``QAOAProblem`` optimization routine, \n",
    "where we consider the excluded and included vertices from the above steps in the ``cost_operator``, ``mixer`` and ``init_function`` of the ``QAOAProblem``.\n",
    "\n",
    "The final result is therefore a dictionary of measurement results from the ``.run`` method of the [QAOAProblem](../../reference/Algorithms/qaoa/QAOAProblem.rst) class and poses an optimized solution to the initial full problem instance. \n",
    "\n",
    "Try it out yourself with the example code below!"
   ]
  },
  {
   "cell_type": "markdown",
   "id": "ce11df02",
   "metadata": {},
   "source": [
    "# QIRO implementation"
   ]
  },
  {
   "cell_type": "markdown",
   "id": "b32c2492",
   "metadata": {},
   "source": [
    "## The QIRO class\n",
    "\n",
    "Upon instantiation, the [QIROProblem](../../reference/Algorithms/qiro/QIROProblem.rst) class requires five arguments: \n",
    "\n",
    "* The ``problem`` to be solved, which not necessarly a graph, since QIRO is also implemented for [MaxSat](../../reference/Algorithms/qiro/implementations/QIROMaxSat.rst).\n",
    "* The ``replacement_routine``, which has the job of performing the aforementioned specific reductions to the ``problem`` object.\n",
    "* The ``cost_operator``, ``mixer``, ``cl_cost_function`` and ``init_function`` in analogy to [QAOAProblem](../../reference/Algorithms/qaoa/QAOAProblem.rst) instantiation. \n",
    "\n",
    "Why the ``cost_operator``, ``mixer``, and ``init_function`` undergo some slight adjustements, will be made clear in the code example below, as well as the necessity \n",
    "for directly assigning a ``cost_operator``, a ``mixer``, and an ``init_function``.\n",
    "\n",
    "To run the instance and solve the optimization problem we use the ``.run`` method, which takes the following arguments:\n",
    "``qarg``, ``depth``, ``n_recursions``, ``mes_kwargs = {}``, and ``max_iter = 50``.\n",
    "\n",
    "* The [QuantumVariable](../../reference/Core/QuantumVariable.rst) ``qarg``, which is the quantum argument the algorithm is evaluated on.\n",
    "* The integer ``depth``, which is the depth of QAOA optimization circuit.\n",
    "* The integer ``n_recursions``, representing the number of QIRO update steps.\n",
    "* The dictionary ``mes_kwargs = {}``, an empty dictionary by default, to define further specifications of the measurements.\n",
    "* The integer ``max_iter = 50``, set to 50 by default, which defines the maximum number of the classical optimization loop with the ``COBYLA`` optimizer as part of the QAOA optimization routine"
   ]
  },
  {
   "cell_type": "markdown",
   "id": "8ea3fd4f",
   "metadata": {},
   "source": [
    "# Maximum independent set example"
   ]
  },
  {
   "cell_type": "markdown",
   "id": "79975113",
   "metadata": {},
   "source": [
    "We now investigate a code example for the maximum independent set problem. The in-depth explanation will focus on the unconnected cost operator implementation displayed. \n",
    "In constrast, our [general QAOA implementation for the MIS problem](../../reference/Algorithms/qaoa/implementations/maxIndepSet.rst) is based on a constrained mixer approach. This can also be used for the QIRO implementation, \n",
    "which we show at the end of this tutorial!"
   ]
  },
  {
   "cell_type": "markdown",
   "id": "5d5f6fea",
   "metadata": {},
   "source": [
    "## Preliminaries\n",
    "\n",
    "Before we get to the superficial code let us first do some explaining of the relevant aspects, starting with the ``replacment_routine``.\n",
    "\n",
    "All in all, the function remains straight forward. We employ a ``find_max`` subroutine to find the entry and the sign of the maximum correlation value, to then adjust the graph."
   ]
  },
  {
   "cell_type": "code",
   "execution_count": 1,
   "id": "1855cb1a",
   "metadata": {},
   "outputs": [],
   "source": [
    "def create_maxIndep_replacement_routine(res, graph, solutions=[], exclusions=[]):\n",
    "\n",
    "    # for multi qubit correlations\n",
    "    orig_edges = [list(item) for item in graph.edges()]\n",
    "\n",
    "    # for single qubit correlations\n",
    "    orig_nodes = list(graph.nodes())\n",
    "    \n",
    "    max_item = []\n",
    "    max_item, sign = find_max(orig_nodes, orig_edges , res, solutions)\n",
    "\n",
    "    # create a copy of the graph\n",
    "    new_graph = copy.deepcopy(graph)\n",
    "\n",
    "    # we remove nodes from the graph, as suggested by the replacement rules\n",
    "    # if the item is an int, it is a single node, else it is an edge\n",
    "    if isinstance(max_item, int):\n",
    "        if sign > 0:\n",
    "            # remove all adjacent nodes\n",
    "            to_remove = graph.adj[max_item]\n",
    "            new_graph.remove_nodes_from(to_remove)\n",
    "            solutions.append(max_item)\n",
    "            exclusions += to_remove\n",
    "\n",
    "        elif sign < 0:\n",
    "            # remove the node\n",
    "            new_graph.remove_node(max_item)\n",
    "            exclusions.append(max_item)\n",
    "\n",
    "    else:\n",
    "        if sign > 0:\n",
    "            # remove both nodes\n",
    "            new_graph.remove_nodes_from(max_item)\n",
    "            exclusions += list(max_item)\n",
    "\n",
    "        elif sign < 0:\n",
    "            # remove all nodes connected to both nodes \n",
    "            intersect = list(set( list(graph.adj[max_item[0]].keys()) ) & set( list(graph.adj[max_item[0]].keys()) ))\n",
    "            new_graph.remove_nodes_from(intersect)\n",
    "            exclusions += intersect \n",
    "\n",
    "    return new_graph, solutions, sign, exclusions"
   ]
  },
  {
   "cell_type": "markdown",
   "id": "5d5251d2",
   "metadata": {},
   "source": [
    "As you might have noticed in the code above, we add the nodes that are included into (respective excluded from) the solution to a list ``solutions`` (``exclusions``). \n",
    "This allows us to directly use the same ideas for the  ``cost_operator``, ``mixer`` and ``init_function`` of the original unconstrained QAOA theory with minor adjustments.\n",
    "\n",
    "Since we have to consider nodes that are already asigned to be in the solution set, or exluded from the algorithm, we do not want to apply ``cost_operator`` or ``mixer`` to said nodes. \n",
    "We therefore include some simple lines of code into the functions to take this into account, for example the ``if not``-statement in the ``qiro_rx_mixer``:"
   ]
  },
  {
   "cell_type": "code",
   "execution_count": 2,
   "id": "1be26cc0",
   "metadata": {},
   "outputs": [],
   "source": [
    "def qiro_rx_mixer(solutions = [], exclusions = []):\n",
    "    union = solutions + exclusions\n",
    "    def RX_mixer(qv, beta):\n",
    "        for i in range(len(qv)):\n",
    "            # DONT mix solutions or exclusions\n",
    "            if not i in union:\n",
    "                rx(2 * beta, qv[i])\n",
    "    return RX_mixer"
   ]
  },
  {
   "cell_type": "markdown",
   "id": "41656ad8",
   "metadata": {},
   "source": [
    "Similarly an ``if not``-statement is included in the cost operator, which is named ``create_max_indep_cost_operator_reduced`` due to it respecting the problem reduction:"
   ]
  },
  {
   "cell_type": "code",
   "execution_count": 3,
   "id": "f24fabe8",
   "metadata": {},
   "outputs": [],
   "source": [
    "def create_max_indep_cost_operator_reduced(problem_updated):\n",
    "\n",
    "    problem = problem_updated[0]\n",
    "    solutions = problem_updated[1]\n",
    "    def cost_operator(qv, gamma):\n",
    "        for pair in list(problem.edges()):\n",
    "            #cx(qv[pair[0]], qv[pair[1]])\n",
    "            rzz(3*gamma, qv[pair[0]], qv[pair[1]])\n",
    "            rz(-gamma, qv[pair[0]])\n",
    "            rz(-gamma, qv[pair[1]])\n",
    "        for i in problem.nodes():\n",
    "            # DONT apply gates on nodes in the solution set\n",
    "            if not i in solutions:\n",
    "                rz(gamma, qv[i])\n",
    "\n",
    "    return cost_operator"
   ]
  },
  {
   "cell_type": "markdown",
   "id": "b9ce94ca",
   "metadata": {},
   "source": [
    "With the preliminaries out of the way, let us jump right into the code example:"
   ]
  },
  {
   "cell_type": "markdown",
   "id": "9fd1376d",
   "metadata": {},
   "source": [
    "## Code execution\n",
    "\n",
    "We start off by defining the graph of our problem, as well as the [QuantumVariable](/reference/Quantum%20Types/QuantumVariable.html) to run our instance on:"
   ]
  },
  {
   "cell_type": "code",
   "execution_count": null,
   "id": "1c75db4b",
   "metadata": {},
   "outputs": [],
   "source": [
    "from qrisp import QuantumVariable\n",
    "from qrisp.qiro import QIROProblem, create_max_indep_replacement_routine, create_max_indep_cost_operator_reduced, qiro_rx_mixer, qiro_init_function\n",
    "from qrisp.qaoa import create_max_indep_set_cl_cost_function\n",
    "import matplotlib.pyplot as plt\n",
    "import networkx as nx\n",
    "\n",
    "# define a random graph via the number of nodes and the QuantumVariable arguments\n",
    "num_nodes = 13\n",
    "G = nx.erdos_renyi_graph(num_nodes, 0.4, seed = 107)\n",
    "qarg = QuantumVariable(G.number_of_nodes())"
   ]
  },
  {
   "cell_type": "markdown",
   "id": "83eb712f",
   "metadata": {},
   "source": [
    "With this, we can directly throw everything that is relevant at the [QIROProblem](../../qiro/QIRO.rst) class and create an instance."
   ]
  },
  {
   "cell_type": "code",
   "execution_count": 5,
   "id": "023537cd",
   "metadata": {},
   "outputs": [],
   "source": [
    "# assign the correct new update functions for qiro \n",
    "qiro_instance = QIROProblem(G,\n",
    "                            replacement_routine=create_max_indep_replacement_routine,\n",
    "                            cost_operator=create_max_indep_cost_operator_reduced,\n",
    "                            mixer=qiro_rx_mixer,\n",
    "                            cl_cost_function=create_max_indep_set_cl_cost_function,\n",
    "                            init_function=qiro_init_function\n",
    "                            )"
   ]
  },
  {
   "cell_type": "markdown",
   "id": "0c4fa058",
   "metadata": {},
   "source": [
    "We think of arguments for the [.run_qiro](../../qiro/QIRO.rst#qrisp.qiro.QIROProblem.run_qiro) method, run the algorithm, et violà!"
   ]
  },
  {
   "cell_type": "code",
   "execution_count": 6,
   "id": "429b0c6a",
   "metadata": {},
   "outputs": [
    {
     "name": "stdout",
     "output_type": "stream",
     "text": [
      "                                                                                     \u001b[2K\r"
     ]
    }
   ],
   "source": [
    "res_qiro = qiro_instance.run_qiro(qarg=qarg, depth=3, n_recursions=2)"
   ]
  },
  {
   "cell_type": "markdown",
   "id": "cb7f459e",
   "metadata": {},
   "source": [
    "All done! We have solved the MIS problem using Quantum-Informed Recursive Optimization!"
   ]
  },
  {
   "cell_type": "markdown",
   "id": "0ed52b3d",
   "metadata": {},
   "source": [
    "## Results\n",
    "\n",
    "But of course, we also want to investigate our results, so let's find out about the five most likely solutions the algorithm came up with:"
   ]
  },
  {
   "cell_type": "code",
   "execution_count": 7,
   "id": "f13d1877",
   "metadata": {},
   "outputs": [
    {
     "name": "stdout",
     "output_type": "stream",
     "text": [
      "5 most likely QIRO solutions\n",
      "[6, 7, 10, 11]\n",
      "-4\n",
      "[7, 10, 11]\n",
      "-3\n",
      "[4, 6, 7, 10, 11]\n",
      "-5\n",
      "[2, 7, 10, 11]\n",
      "-4\n",
      "[6, 7, 10]\n",
      "-3\n"
     ]
    }
   ],
   "source": [
    "cl_cost = create_max_indep_set_cl_cost_function(G)\n",
    "\n",
    "print(\"5 most likely QIRO solutions\")\n",
    "max_five_qiro = sorted(res_qiro, key=res_qiro.get, reverse=True)[:5]\n",
    "for res in max_five_qiro: \n",
    "    print([index for index, value in enumerate(res) if value == '1'])\n",
    "    print(cl_cost({res : 1}))"
   ]
  },
  {
   "cell_type": "markdown",
   "id": "2f50878e",
   "metadata": {},
   "source": [
    "We do not put the example output here, since the algorithm is not deterministic, and the output you receive may differ from what an example might show. Just go ahead and try it yourself!\n",
    "\n",
    "We can further compare our results to the [NetworkX MIS algorithm](https://networkx.org/documentation/stable/reference/algorithms/generated/networkx.algorithms.mis.maximal_independent_set.html) for solving the MIS problem:"
   ]
  },
  {
   "cell_type": "code",
   "execution_count": 8,
   "id": "13133b6c",
   "metadata": {},
   "outputs": [
    {
     "name": "stdout",
     "output_type": "stream",
     "text": [
      "Networkx solution\n",
      "{0, 4, 5, 9, 12}\n"
     ]
    }
   ],
   "source": [
    "print(\"Networkx solution\")\n",
    "print(nx.approximation.maximum_independent_set(G))"
   ]
  },
  {
   "cell_type": "markdown",
   "id": "4814cab5",
   "metadata": {},
   "source": [
    "As a final caveat, we can look at the graph we are left with after all reduction steps."
   ]
  },
  {
   "cell_type": "code",
   "execution_count": 9,
   "id": "a5e8d640",
   "metadata": {},
   "outputs": [
    {
     "data": {
      "image/png": "[encoded data removed]",
      "text/plain": [
       "<Figure size 640x480 with 1 Axes>"
      ]
     },
     "metadata": {},
     "output_type": "display_data"
    }
   ],
   "source": [
    "final_graph = qiro_instance.problem\n",
    "plt.figure(1)\n",
    "nx.draw(final_graph, with_labels=True, font_color='white', node_size=1000, font_size=22,\n",
    " node_color='#20306f', edge_color='#D3D3D3')\n",
    "plt.title('Final QIRO graph')\n",
    "plt.show()"
   ]
  },
  {
   "cell_type": "markdown",
   "id": "b0f2e343",
   "metadata": {},
   "source": [
    "## Constrained mixer implementation\n",
    "\n",
    "Before we end this tutorial we want to show you what the constrained mixer implementation looks like for the MIS QIRO algorithm. In analogy to our [general QAOA implementation for the MIS problem](../../qaoa/max_indep_set_qaoa.rst) \n",
    "we use the [qiro_rz_mixer](../../qiro/QIRO.rst) as the mixer and the [create_max_indep_controlled_mixer_reduced](../../qiro/MaxIndependentSetQIRO.rst) as the cost operator. In principle, these functions do the exact same thing as the general implementations,\n",
    "but they respect the solutions and exclusions chosen via the update routine.  We suggest to try this instance with larger graph sizes (more than 20 nodes)."
   ]
  },
  {
   "cell_type": "code",
   "execution_count": null,
   "id": "e97a4ea4",
   "metadata": {},
   "outputs": [
    {
     "name": "stdout",
     "output_type": "stream",
     "text": [
      "                                                                                     \u001b[2K\r"
     ]
    }
   ],
   "source": [
    "from qrisp.algorithms.qiro import qiro_rz_mixer, create_max_indep_controlled_mixer_reduced, qiro_max_indep_set_init_function\n",
    "\n",
    "# assign the correct update functions for constrained qiro \n",
    "qiro_instance = QIROProblem(G, \n",
    "                            create_max_indep_replacement_routine,\n",
    "                            qiro_rz_mixer,\n",
    "                            create_max_indep_controlled_mixer_reduced,\n",
    "                            create_max_indep_set_cl_cost_function,\n",
    "                            qiro_max_indep_set_init_function,\n",
    "                            )\n",
    "\n",
    "# We run the qiro instance and get the results!\n",
    "res_qiro = qiro_instance.run_qiro(qarg=qarg, depth=3, n_recursions=1)\n"
   ]
  },
  {
   "cell_type": "code",
   "execution_count": 11,
   "id": "7a52af2f",
   "metadata": {},
   "outputs": [
    {
     "name": "stdout",
     "output_type": "stream",
     "text": [
      "5 most likely QIRO solutions\n",
      "[0, 3, 5, 8, 9, 12]\n",
      "-6\n",
      "[3, 5, 6, 7, 8, 12]\n",
      "-6\n",
      "[2, 3, 7, 8]\n",
      "-4\n",
      "[0, 4, 5, 8, 9, 12]\n",
      "-6\n",
      "[1, 6, 7, 8]\n",
      "-4\n"
     ]
    }
   ],
   "source": [
    "cl_cost = create_max_indep_set_cl_cost_function(G)\n",
    "\n",
    "print(\"5 most likely QIRO solutions\")\n",
    "max_five_qiro = sorted(res_qiro, key=res_qiro.get, reverse=True)[:5]\n",
    "for res in max_five_qiro:\n",
    "    print([index for index, value in enumerate(res) if value == '1'])\n",
    "    print(cl_cost({res : 1}))"
   ]
  },
  {
   "cell_type": "markdown",
   "id": "6e7b826d",
   "metadata": {},
   "source": [
    "Congratulations, you have reached the end of the tutorial and are now capable of solving the MIS problem in Qrisp!\n",
    "Should your appetite not be satisfied, we advise you to check out our other QIRO implementations:\n",
    "\n",
    "* [MaxClique](../../reference/Algorithms/qiro/implementations/QIROMaxClique.rst) \n",
    "* [MaxSat](../../reference/Algorithms/qiro/implementations/QIROMaxSat.rst)\n",
    "* [MaxSetPacking](../../reference/Algorithms/qiro/implementations/QIROMaxSetPack.rst)\n",
    "\n",
    "and of course all the other material in the tutorial section!"
   ]
  }
 ],
 "metadata": {
  "kernelspec": {
   "display_name": "qrisp",
   "language": "python",
   "name": "python3"
  },
  "language_info": {
   "codemirror_mode": {
    "name": "ipython",
    "version": 3
   },
   "file_extension": ".py",
   "mimetype": "text/x-python",
   "name": "python",
   "nbconvert_exporter": "python",
   "pygments_lexer": "ipython3",
   "version": "3.10.16"
  }
 },
 "nbformat": 4,
 "nbformat_minor": 5
}
