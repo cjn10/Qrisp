{
 "cells": [
  {
   "cell_type": "markdown",
   "id": "ae37e47b",
   "metadata": {},
   "source": [
    "# Shor's algorithm in Qrisp\n",
    "\n",
    "## Problem description\n",
    "\n",
    "Perform efficient (i.e. polynomial time) factorization of an integer $N=p*q$. \n",
    "\n",
    "## Shor Implementation\n",
    "\n",
    "https://qrisp.eu/reference/Algorithms/Shor.html"
   ]
  },
  {
   "cell_type": "code",
   "execution_count": 7,
   "id": "6db13ec4",
   "metadata": {},
   "outputs": [
    {
     "name": "stdout",
     "output_type": "stream",
     "text": [
      "                                                                                     \u001b[2K\r"
     ]
    },
    {
     "data": {
      "text/plain": [
       "11"
      ]
     },
     "execution_count": 7,
     "metadata": {},
     "output_type": "execute_result"
    }
   ],
   "source": [
    "from qrisp.shor import shors_alg\n",
    "\n",
    "shors_alg(99)"
   ]
  },
  {
   "cell_type": "markdown",
   "id": "bc7f21fe",
   "metadata": {},
   "source": [
    "## Breaking RSA cryptography\n",
    "\n",
    "Imagine a scenario where two characters, Alice and Bob, are trying to exchange a secure message. They decide to use RSA encryption, a popular method that uses the product of two prime numbers as part of the key. Alice chooses two prime numbers $p=5$ and $q=13$ and calculates their product $N=65$. She then chooses the public exponent $e=11$ and calculates the private exponent $d=35$ following the key generation protocol. She publishes the pair $(e,N)=(11,65)$ as the public key, and keeps the pair $(d,N)=(35,65)$ as the private key.\n",
    "\n",
    "Bob sends an encrypted messsage to Alice:"
   ]
  },
  {
   "cell_type": "code",
   "execution_count": 8,
   "id": "1867b42f",
   "metadata": {},
   "outputs": [
    {
     "data": {
      "text/plain": [
       "'01010000000101011001000101000010100011111101111110001101000010100011010001011001110000100100111010000100001101100010000010100100111110100001'"
      ]
     },
     "execution_count": 8,
     "metadata": {},
     "output_type": "execute_result"
    }
   ],
   "source": [
    "from qrisp.shor import rsa_encrypt_string\n",
    "rsa_encrypt_string(e = 11, N = 65 , message = \"Qrisp is awesome!\")"
   ]
  },
  {
   "cell_type": "markdown",
   "id": "c56798bd",
   "metadata": {},
   "source": [
    "Enter our detective, let’s call him Gadget, who manages to intercept the encrypted message using his highly advanced encrypted-message-interceptor tool. He knows that Alice and Bob have used RSA encryption, but he doesn’t know the private keys they used. “Aaaargh, so close!”, he thought.\n",
    "\n",
    "Luckily for the future of his career as a detective, he remembered that he has recently stumbled upon the website of Eclipse Qrisp where he read the enlightening tutorial about Shor’s algorithm. Albeit thinking the text in the tutorial is bordering science fiction, he still decided to give the implementation a go."
   ]
  },
  {
   "cell_type": "code",
   "execution_count": 9,
   "id": "685546e6",
   "metadata": {},
   "outputs": [
    {
     "name": "stdout",
     "output_type": "stream",
     "text": [
      "                                                                                     \u001b[2K\r"
     ]
    },
    {
     "data": {
      "text/plain": [
       "'Qrisp is awesome!'"
      ]
     },
     "execution_count": 9,
     "metadata": {},
     "output_type": "execute_result"
    }
   ],
   "source": [
    "intercepted_message = '01010000000101011001000101000010100011111101111110001101000010100011010001011001110000100100111010000100001101100010000010100100111110100001'\n",
    "\n",
    "from qrisp.shor import rsa_decrypt_string\n",
    "rsa_decrypt_string(e = 11, N = 65, ciphertext = intercepted_message)"
   ]
  },
  {
   "cell_type": "code",
   "execution_count": null,
   "id": "b44a4fd4",
   "metadata": {},
   "outputs": [],
   "source": []
  }
 ],
 "metadata": {
  "kernelspec": {
   "display_name": "qrisp_new",
   "language": "python",
   "name": "python3"
  },
  "language_info": {
   "codemirror_mode": {
    "name": "ipython",
    "version": 3
   },
   "file_extension": ".py",
   "mimetype": "text/x-python",
   "name": "python",
   "nbconvert_exporter": "python",
   "pygments_lexer": "ipython3",
   "version": "3.10.15"
  }
 },
 "nbformat": 4,
 "nbformat_minor": 5
}
