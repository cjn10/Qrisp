{
 "cells": [
  {
   "cell_type": "markdown",
   "id": "1b4215c4",
   "metadata": {},
   "source": [
    "# MaxCut QAOA Implementation\n",
    "\n",
    "Welcome to our Quantum Approximate Optimization Algorithm (QAOA) implementation tutorial for the MaxCut problem! This tutorial is designed to provide you with a hands-on understanding of how to apply QAOA using Qrisp to solve the MaxCut optimization problem.\n",
    "\n",
    "To refresh your memory, [Maximum Cut, or MaxCut for short](https://en.wikipedia.org/wiki/Maximum_cut) involves dividing the nodes of a graph into two groups such that the number of edges between the groups is maximized. It has applications in various fields, including computer science, operations research, and statistical physics.\n",
    "\n",
    "In this interactive tutorial, we'll first tackle the MaxCut problem to build a solid QAOA foundation. You'll be guided to learn how to formulate the problem for QAOA, implement the actual algorithm, and interpret the results.\n",
    "\n",
    "Whether you're a quantum computing novice or an experienced algorithm developer checking out this remarkable new framework, you may have observed that virtually every other quantum programming framework and their quantum grandmother has implemented QAOA for MaxCut in a similar manner (authors used irony, it was super effective). We'll go one step further and showcase on why using the Qrisp QAOA module and its [QAOAProblem class](/reference/QAOAProblem) **is** a no-brainer when it comes to simplicity of implementation as well as the speed of the optimization itself."
   ]
  },
  {
   "cell_type": "markdown",
   "id": "0c30e15f",
   "metadata": {},
   "source": [
    "## Your very first QAOA layer\n",
    "\n",
    "Let's start slowly with deepening the understanding of QAOA at its core - one layer of the algorithm and see how it looks like. We start with importing necessary quantum gates, as well as `networkx`, which is a package for creating and manipulating graphs. In this block of code you also define the angle parameters $\\gamma$ and $\\beta$:"
   ]
  },
  {
   "cell_type": "code",
   "execution_count": 17,
   "id": "1ab448bc",
   "metadata": {},
   "outputs": [],
   "source": [
    "from qrisp import QuantumVariable, h, barrier, rz, rx, cx\n",
    "import networkx as nx\n",
    "from sympy import Symbol\n",
    "\n",
    "G = nx.Graph()\n",
    "G.add_edges_from([[0,3],[0,4],[1,3],[1,4],[2,3],[2,4]])\n",
    "#nx.draw(G, with_labels=True)\n",
    "N = G.number_of_nodes()"
   ]
  },
  {
   "cell_type": "markdown",
   "id": "bf6475c1",
   "metadata": {},
   "source": [
    "Feel free to play around with this block of code changing the graph through the number of nodes, the edges connecting them, and print the result by uncommenting ``nx.draw(G, with_labels=True)``.\n",
    "\n",
    "Next thing on our list is defining the MaxCut cost operator and the mixer. Taking a peek in the appendices section of Hadfield's paper, we see, the MaxCut phase separator we have to implement is defined as\n",
    "$$U_P=e^{-i\\gamma_pH_P}=\\e^{-i\\gamma_p\\sum_{ij\\in E}(-Z_iZ_j)}.$$ Instead of using the `ZZ` gate, we will perform the same operation using only elementary gates."
   ]
  },
  {
   "cell_type": "code",
   "execution_count": 18,
   "id": "6ef9b583",
   "metadata": {},
   "outputs": [],
   "source": [
    "gamma = Symbol('γ')\n",
    "\n",
    "def apply_cost_operator(qv, gamma):\n",
    "    for pair in list(G.edges()):\n",
    "        cx(qv[pair[0]], qv[pair[1]])\n",
    "        rz(2 * gamma, qv[pair[1]])\n",
    "        cx(qv[pair[0]], qv[pair[1]])\n",
    "        barrier(qv)\n",
    "    return qv"
   ]
  },
  {
   "cell_type": "markdown",
   "id": "ef949ad7",
   "metadata": {},
   "source": [
    "The first line starts a loop over all edges in the graph ``G``. Each edge is a pair of nodes, which we refer to as ``pair[0]`` and ``pair[1]``. We then apply a controlled-X (CNOT) gate to the pair of qubits before applying a rotation around the Z-axis by an angle of $2\\gamma$ to the second qubit in the pair. At the end we apply another CNOT gate to the pair of qubits.\n",
    "\n",
    "As suggested in the table of our QAOA theoretical overview, we are using the ``rx`` gate as the mixer."
   ]
  },
  {
   "cell_type": "code",
   "execution_count": 19,
   "id": "2cf02675",
   "metadata": {},
   "outputs": [],
   "source": [
    "beta = Symbol('β')\n",
    "\n",
    "def apply_mixer(qv, beta):\n",
    "    for i in range(0, N):\n",
    "        rx(2 * beta, qv[i])\n",
    "    barrier(qv)\n",
    "    return qv"
   ]
  },
  {
   "cell_type": "markdown",
   "id": "38aa3da5",
   "metadata": {},
   "source": [
    "With these two functions at our disposal we can now implement our first QAOA layer and `print(qv.qs)` it."
   ]
  },
  {
   "cell_type": "code",
   "execution_count": 20,
   "id": "c94a6e88",
   "metadata": {},
   "outputs": [
    {
     "name": "stdout",
     "output_type": "stream",
     "text": [
      "QuantumCircuit:\n",
      "---------------\n",
      "        ┌───┐                      ░                       ░                 »\n",
      "qv_1.0: ┤ H ├──■───────────────■───░───■───────────────■───░─────────────────»\n",
      "        ├───┤  │               │   ░   │               │   ░ ┌───┐┌─────────┐»\n",
      "qv_1.1: ┤ H ├──┼───────────────┼───░───┼───────────────┼───░─┤ X ├┤ Rz(2*γ) ├»\n",
      "        ├───┤  │               │   ░   │               │   ░ └─┬─┘└─────────┘»\n",
      "qv_1.2: ┤ H ├──┼───────────────┼───░───┼───────────────┼───░───┼─────────────»\n",
      "        ├───┤┌─┴─┐┌─────────┐┌─┴─┐ ░   │               │   ░   │             »\n",
      "qv_1.3: ┤ H ├┤ X ├┤ Rz(2*γ) ├┤ X ├─░───┼───────────────┼───░───■─────────────»\n",
      "        ├───┤└───┘└─────────┘└───┘ ░ ┌─┴─┐┌─────────┐┌─┴─┐ ░                 »\n",
      "qv_1.4: ┤ H ├──────────────────────░─┤ X ├┤ Rz(2*γ) ├┤ X ├─░─────────────────»\n",
      "        └───┘                      ░ └───┘└─────────┘└───┘ ░                 »\n",
      "«              ░                       ░                       ░      »\n",
      "«qv_1.0: ──────░───────────────────────░───────────────────────░──────»\n",
      "«        ┌───┐ ░                       ░ ┌───┐┌─────────┐┌───┐ ░      »\n",
      "«qv_1.1: ┤ X ├─░───────────────────────░─┤ X ├┤ Rz(2*γ) ├┤ X ├─░──────»\n",
      "«        └─┬─┘ ░ ┌───┐┌─────────┐┌───┐ ░ └─┬─┘└─────────┘└─┬─┘ ░ ┌───┐»\n",
      "«qv_1.2: ──┼───░─┤ X ├┤ Rz(2*γ) ├┤ X ├─░───┼───────────────┼───░─┤ X ├»\n",
      "«          │   ░ └─┬─┘└─────────┘└─┬─┘ ░   │               │   ░ └─┬─┘»\n",
      "«qv_1.3: ──■───░───■───────────────■───░───┼───────────────┼───░───┼──»\n",
      "«              ░                       ░   │               │   ░   │  »\n",
      "«qv_1.4: ──────░───────────────────────░───■───────────────■───░───■──»\n",
      "«              ░                       ░                       ░      »\n",
      "«                         ░ ┌─────────┐ ░ \n",
      "«qv_1.0: ─────────────────░─┤ Rx(2*β) ├─░─\n",
      "«                         ░ ├─────────┤ ░ \n",
      "«qv_1.1: ─────────────────░─┤ Rx(2*β) ├─░─\n",
      "«        ┌─────────┐┌───┐ ░ ├─────────┤ ░ \n",
      "«qv_1.2: ┤ Rz(2*γ) ├┤ X ├─░─┤ Rx(2*β) ├─░─\n",
      "«        └─────────┘└─┬─┘ ░ ├─────────┤ ░ \n",
      "«qv_1.3: ─────────────┼───░─┤ Rx(2*β) ├─░─\n",
      "«                     │   ░ ├─────────┤ ░ \n",
      "«qv_1.4: ─────────────■───░─┤ Rx(2*β) ├─░─\n",
      "«                         ░ └─────────┘ ░ \n",
      "Live QuantumVariables:\n",
      "----------------------\n",
      "QuantumVariable qv_1\n"
     ]
    }
   ],
   "source": [
    "qv_1 = QuantumVariable(N)\n",
    "h(qv_1)\n",
    "apply_cost_operator(qv_1, gamma)\n",
    "apply_mixer(qv_1, beta)\n",
    "print(qv_1.qs)"
   ]
  },
  {
   "cell_type": "markdown",
   "id": "714f68e3",
   "metadata": {},
   "source": [
    "Applying hadamard gates on ``qv`` prepares the initial state for our system - the superposition state $|s\\rangle$ .\n",
    "\n",
    "If you have executed all the preceding cells correctly, you should have been able to print and examine the circuit of the initial QAOA layer. You may notice a pattern in the phase separator section of the circuit, which links two qubits corresponding to a specific pair of nodes in ``G`` that are connected by an edge (commencing flashback: `G.add_edges_from([[0,3],[0,4],[1,3],[1,4],[2,3],[2,4]])`). The use of barriers between such pairs facilitates a more intuitive understanding of the phase separator unitary's inner workings.\n",
    "\n",
    "We've used the parameters $\\gamma$ and $\\beta$ symbolically, without assigning specific numerical values to them. In the next section we will build on top of the first layer, assign values to the angle parameters and iteratively optimize their value with each additional layer (SPOILER ALERT). \n",
    "\n",
    "As we add more layers to our QAOA circuit, the values of $\\gamma$ and $\\beta$ are refined, leading us closer to the optimal solution. This iterative improvement is the core of what makes QAOA such a powerful tool."
   ]
  },
  {
   "cell_type": "markdown",
   "id": "0988d34e",
   "metadata": {},
   "source": [
    "## MaxCut QAOA implementation\n",
    "\n",
    "Putting focuss on the problem at hand (MaxCut if you're just scrolling through and not paying that much attention) it is reasonable to ask ourselves what will be the objective that we want to optimize. \n",
    "\n",
    "As the name suggests, we are looking for a cut going through as much edges as possible. It's therefore crucial to count the amount of cuts we cut through (I'll cut it out now) by checking if the nodes ``i`` and ``j`` belong to different groups. If they are, the edge $(i,j)$ is cut and added to the total."
   ]
  },
  {
   "cell_type": "code",
   "execution_count": 21,
   "id": "24d1bed0",
   "metadata": {},
   "outputs": [],
   "source": [
    "def maxcut_obj(x):                              \n",
    "    cut = 0\n",
    "    for i, j in G.edges():\n",
    "        if x[i] != x[j]:                         \n",
    "            cut -= 1\n",
    "    return cut"
   ]
  },
  {
   "cell_type": "markdown",
   "id": "10089397",
   "metadata": {},
   "source": [
    "This optimization objective is important for the last building blocks described in the theoretical overview we haven't mentioned yet - the cost function. The cost function is important for keeping track of the energy of the system:"
   ]
  },
  {
   "cell_type": "code",
   "execution_count": 22,
   "id": "a2b9e213",
   "metadata": {},
   "outputs": [],
   "source": [
    "def maxcut_cost_funct(meas_res):\n",
    "    energy = 0\n",
    "    for meas, p in meas_res.items():\n",
    "        obj_for_meas = maxcut_obj(meas)\n",
    "        energy += obj_for_meas * p\n",
    "    return energy"
   ]
  },
  {
   "cell_type": "markdown",
   "id": "babae044",
   "metadata": {},
   "source": [
    "We loop over the measurement  in ``meas_res``. Each solution is represented by a string of 1 and 0 in ``meas`` with probability ``p`` keeping score in how likely a particular solution appears. \n",
    "\n",
    "For each such solution the cost is calculated using the ``maxcut_obj`` returning the number of cut edges. At the end, ``maxcut_cost_funct`` calculates the average \"quality\" of a set of solutions to the MaxCut problem. A lower average energy means that, on average, the solutions are better - they cut more edges.\n",
    "\n",
    "This is now nearly all the building blocks we need in order to run QAOA and start optimizing. Well, after we add more layers to our algorithm, that is."
   ]
  },
  {
   "cell_type": "code",
   "execution_count": 23,
   "id": "25c6b03a",
   "metadata": {},
   "outputs": [],
   "source": [
    "p = 3\n",
    "\n",
    "def apply_p_layers(qv, beta, gamma):\n",
    "    assert(len(beta) == len(gamma))\n",
    "    p = len(beta)\n",
    "    h(qv)                                        \n",
    "    for i in range(p):                           \n",
    "        apply_cost_operator(qv, gamma[i])\n",
    "        apply_mixer(qv, beta[i])\n",
    "    barrier(qv)\n",
    "    return qv"
   ]
  },
  {
   "cell_type": "markdown",
   "id": "9b8c56c1",
   "metadata": {},
   "source": [
    "With our $p$-layered algorithm in hand there is one last piece of the puzzle: the objective function, which we need to generate in order to calculate the average energy of the resulting solutions. Oh, and it features the angle parameters $\\gamma$ and $\\beta$, which we combine in one list ``theta``. The solutions we get depend on the values of the angle parameters."
   ]
  },
  {
   "cell_type": "code",
   "execution_count": 24,
   "id": "693db23d",
   "metadata": {},
   "outputs": [],
   "source": [
    "def quantum_objective(theta):\n",
    "    qv_p = QuantumVariable(N)\n",
    "    beta = theta[:p]\n",
    "    gamma = theta[p:]\n",
    "    qv = apply_p_layers(qv_p,beta, gamma)\n",
    "    results = qv.get_measurement()\n",
    "    return maxcut_cost_funct(results)"
   ]
  },
  {
   "cell_type": "markdown",
   "id": "10bebcb6",
   "metadata": {},
   "source": [
    "We can finally finish combine all the pieces of the mosaic and have it appraised by a professional - a classical optimizer. Running it online might take a second so we would like to encourage you to download Qrisp and try out for yourself!\n",
    "\n",
    "We first reset the initial state and randomize it in a list where the first $p$ values correspond to $\\beta$ and the second one to $\\gamma$. It has finally come the time to inclute the COBYLA optimiser, which will return the optimal parameters that minimze our objective function. This is done using the ``minimize`` method, which adjusts the parameters iteratively until it finds the best ones.\n",
    "\n",
    "Then, once we have our optimal parameters, we apply QAOA one more time to get our final set of solutions (``counts``), before finding the best solution by looking for the one with the lowest energy. Finally, we visualize our solution by coloring the nodes of our graph according to which group they belong to in the best solution."
   ]
  },
  {
   "cell_type": "code",
   "execution_count": 25,
   "id": "944dec9e",
   "metadata": {},
   "outputs": [
    {
     "name": "stdout",
     "output_type": "stream",
     "text": [
      "Best string: 11100 with cut: 6                                                       \u001b[2K\u001b[2K\u001b[2K\u001b[2K\n"
     ]
    },
    {
     "data": {
      "image/png": "[encoded data removed]",
      "text/plain": [
       "<Figure size 640x480 with 1 Axes>"
      ]
     },
     "metadata": {},
     "output_type": "display_data"
    }
   ],
   "source": [
    "import numpy as np\n",
    "from scipy.optimize import minimize\n",
    "from operator import itemgetter\n",
    "\n",
    "init_point = np.pi * np.random.rand(2 * p)\n",
    "\n",
    "res_sample = minimize(quantum_objective, init_point, method='COBYLA', options={'maxiter':50})\n",
    "\n",
    "optimal_theta = res_sample['x']\n",
    "qv_p = QuantumVariable(N)\n",
    "qv = apply_p_layers(qv_p, optimal_theta[:p], optimal_theta[p:])\n",
    "counts = qv_p.get_measurement()\n",
    "\n",
    "best_cut, best_solution = min([(maxcut_obj(x),x) for x in counts.keys()], key=itemgetter(0))\n",
    "print(f\"Best string: {best_solution} with cut: {-best_cut}\")\n",
    "\n",
    "colors = ['r' if best_solution[node] == '0' else 'b' for node in G]\n",
    "nx.draw(G,node_color = colors, pos=nx.bipartite_layout(G, [0,1,2]))"
   ]
  },
  {
   "cell_type": "markdown",
   "id": "765f92e5",
   "metadata": {},
   "source": [
    "And voila! We just solved the MaxCut problem using a relatively straightforward brute force approach. While this method can be effective, it's not the most efficient or elegant way to tackle this problem, and other problem instances with more complex objectives, mixers, or both. \n",
    "\n",
    "That's where our QAOAProblem class comes in. This class simplifies the process of running QAOA by introducing modularity, without sacrificing the generality of whichever problem instance we're dealing with. As we move forward in this tutorial, you'll have the opportunity to try it out for yourself."
   ]
  },
  {
   "cell_type": "markdown",
   "id": "5ee5f227",
   "metadata": {},
   "source": [
    "## QAOAProblem. Enough said.\n",
    "\n",
    "🎶 Enough chit chat, you ain't got all day - let's get to it: QAOAProblem, lead the way! 🎶\n",
    "\n",
    "Taking the essential building blocks from [QAOAnsatz](https://arxiv.org/abs/1709.03489) into account, we built the [QAOAProblem class](/reference/QAOA) with modularity in mind. We gathered and improved the functions shown in the example above and created a powerfull architecture with which it's easy to implement various problem instances of varying complexity. In this tutorial we focus on using QAOAProblem, with extensive documentation being available [here](/reference/QAOA).\n",
    "\n",
    "We start with renaming our quantum argument `qv` to a more general `qarg` because more often than not we'll combine [QuantumVariables](/reference/QuantumVariable) into a [QuantumArray](/reference) to make implementations of other problem instances more efficient."
   ]
  },
  {
   "cell_type": "code",
   "execution_count": 26,
   "id": "04ca07fd",
   "metadata": {},
   "outputs": [],
   "source": [
    "qarg = QuantumVariable(len(G))\n",
    "\n",
    "depth = 3"
   ]
  },
  {
   "cell_type": "markdown",
   "id": "c738cfa7",
   "metadata": {},
   "source": [
    "BEHOLD, THE POWER OF QRISP!"
   ]
  },
  {
   "cell_type": "code",
   "execution_count": 27,
   "id": "8cf84fbd",
   "metadata": {},
   "outputs": [
    {
     "name": "stdout",
     "output_type": "stream",
     "text": [
      "                                                                                     \u001b[2K\u001b[2K\r"
     ]
    }
   ],
   "source": [
    "from qrisp.qaoa import QAOAProblem, RX_mixer\n",
    "\n",
    "maxcut_instance = QAOAProblem(apply_cost_operator, RX_mixer, maxcut_cost_funct)\n",
    "\n",
    "res = maxcut_instance.run(qarg, depth, max_iter = 50) # runs the simulation"
   ]
  },
  {
   "cell_type": "markdown",
   "id": "74299679",
   "metadata": {},
   "source": [
    "And that's pretty much it, really. Apart from visualizing the results again."
   ]
  },
  {
   "cell_type": "code",
   "execution_count": 28,
   "id": "fdab4fb9",
   "metadata": {},
   "outputs": [
    {
     "name": "stdout",
     "output_type": "stream",
     "text": [
      "Best string: 11100 with cut: 6\n",
      "QAOA solution:  11100\n"
     ]
    },
    {
     "data": {
      "image/png": "[encoded data removed]",
      "text/plain": [
       "<Figure size 640x480 with 1 Axes>"
      ]
     },
     "metadata": {},
     "output_type": "display_data"
    }
   ],
   "source": [
    "best_cut, best_solution = min([(maxcut_obj(x),x) for x in res.keys()], key=itemgetter(0))\n",
    "print(f\"Best string: {best_solution} with cut: {-best_cut}\")\n",
    "\n",
    "res_str = list(res.keys())[0]\n",
    "print(\"QAOA solution: \", res_str)\n",
    "best_cut, best_solution = (maxcut_obj(res_str),res_str)\n",
    "\n",
    "colors = ['r' if best_solution[node] == '0' else 'b' for node in G]\n",
    "nx.draw(G,node_color = colors)"
   ]
  },
  {
   "cell_type": "markdown",
   "id": "959400d3",
   "metadata": {},
   "source": [
    "After thorough comparison certainly made after running both approaches for different graph topologies you are in position to be the judge regarding which approach is qrispier."
   ]
  },
  {
   "cell_type": "markdown",
   "id": "039ad98c",
   "metadata": {},
   "source": [
    "## Benchmarking the performance\n",
    "\n",
    "Lucky for you, the tutorial is not over since there is one more important functionality we would like to show you - the [benchmark](/reference/qrisp.qaoa.QAOAProblem.benchmark) method of our QAOA module. This method allows you to observe the performance of your simulation: \n",
    "\n",
    "- get insights about the approximation ratio for each run together with the average approximation ratio with its variance, \n",
    "- obtain total circuit depth, \n",
    "- obtain the overall quantum volume, \n",
    "- and rank the results for different depths, amount of shots, as well as iterations.\n",
    "\n",
    "Let's show how easy benchmarking QAOA is using Qrisp:"
   ]
  },
  {
   "cell_type": "code",
   "execution_count": 29,
   "id": "36226f1c",
   "metadata": {},
   "outputs": [
    {
     "name": "stdout",
     "output_type": "stream",
     "text": [
      "RND\n",
      "Rank  approx_ratio Overall QV   p    QC depth   QB count  Shots   Iterations         \u001b[2K\u001b[2K\u001b[2K\u001b[2K\u001b[2K\u001b[2K\u001b[2K\u001b[2K\u001b[2K\u001b[2K\u001b[2K\u001b[2K\u001b[2K\u001b[2K\u001b[2K\u001b[2K\u001b[2K\u001b[2K\u001b[2K\u001b[2K\u001b[2K\u001b[2K\u001b[2K\u001b[2K\u001b[2K\u001b[2K\u001b[2K\u001b[2K\u001b[2K\u001b[2K\u001b[2K\u001b[2K\u001b[2K\u001b[2K\u001b[2K\u001b[2K\u001b[2K\u001b[2K\u001b[2K\u001b[2K\u001b[2K\u001b[2K\u001b[2K\u001b[2K\u001b[2K\u001b[2K\u001b[2K\u001b[2K\u001b[2K\u001b[2K\u001b[2K\u001b[2K\u001b[2K\u001b[2K\u001b[2K\u001b[2K\u001b[2K\u001b[2K\u001b[2K\u001b[2K\u001b[2K\u001b[2K\u001b[2K\u001b[2K\u001b[2K\u001b[2K\u001b[2K\u001b[2K\u001b[2K\u001b[2K\u001b[2K\u001b[2K\u001b[2K\u001b[2K\u001b[2K\u001b[2K\u001b[2K\u001b[2K\u001b[2K\u001b[2K\u001b[2K\n",
      "============================================================================\n",
      "0     0.985e+0     5.4000e+8    5    54         5         10000   200       \n",
      "1     0.977e+0     2.7000e+8    5    54         5         10000   100       \n",
      "2     0.951e+0     4.4000e+8    4    44         5         10000   200       \n",
      "3     0.944e+0     1.7000e+8    3    34         5         10000   100       \n",
      "4     0.943e+0     3.4000e+7    3    34         5         1000    200       \n",
      "5     0.921e+0     2.7000e+7    5    54         5         1000    100       \n",
      "6     0.915e+0     2.2000e+7    4    44         5         1000    100       \n",
      "7     0.902e+0     4.4000e+7    4    44         5         1000    200       \n",
      "8     0.865e+0     2.4000e+7    2    24         5         1000    200       \n",
      "9     0.821e+0     1.7000e+7    3    34         5         1000    100       \n",
      "10    0.819e+0     5.4000e+7    5    54         5         1000    200       \n",
      "11    0.818e+0     1.2000e+7    2    24         5         1000    100       \n",
      "12    0.817e+0     2.2000e+8    4    44         5         10000   100       \n",
      "13    0.763e+0     2.4000e+8    2    24         5         10000   200       \n",
      "14    0.743e+0     1.2000e+8    2    24         5         10000   100       \n",
      "15    0.719e+0     7.0000e+6    1    14         5         1000    100       \n",
      "16    0.718e+0     1.4000e+8    1    14         5         10000   200       \n",
      "17    0.675e+0     3.4000e+8    3    34         5         10000   200       \n",
      "18    0.560e+0     1.4000e+7    1    14         5         1000    200       \n",
      "19    0.549e+0     7.0000e+7    1    14         5         10000   100       \n",
      "Approximation ratio:  0.8202366666666666\n",
      "Variance:  0.015958866766666677\n"
     ]
    }
   ],
   "source": [
    "print('RND')\n",
    "\n",
    "benchmark_data = maxcut_instance.benchmark(qarg = QuantumVariable(len(G)),\n",
    "                       depth_range = [1,2,3,4,5],\n",
    "                       shot_range = [1000, 10000],\n",
    "                       iter_range = [100, 200],\n",
    "                       optimal_solution = '00011',\n",
    "                       repetitions = 1,\n",
    "                       init_type='random'\n",
    "                       )\n",
    "\n",
    "temp = benchmark_data.rank(print_res = True)\n",
    "\n",
    "_,rndFO=benchmark_data.evaluate()\n",
    "\n",
    "print('Approximation ratio: ',sum(rndFO)/len(rndFO))\n",
    "print(\"Variance: \",np.var(rndFO))"
   ]
  },
  {
   "cell_type": "markdown",
   "id": "1c118cfe",
   "metadata": {},
   "source": [
    "In the above example we obtain the list of results for the approximation ratio for various depths of QAOA ranging from 1 to 5. We run the benchmark for both 1000, and 10000 shots (the latter number is to avoid sampling of the solution); and for 100 and 200 iterations of the optimizer. Since QAOA is probabilistic every run is unique so it's important to run more repetitions for clearer insights.\n",
    "\n",
    "It is important to note that in order to do the benchmark, one has to already know the optimal solution in order to calculate the optimal energy, and through that, the approximation ratio."
   ]
  },
  {
   "cell_type": "markdown",
   "id": "0f3dc987",
   "metadata": {},
   "source": [
    "As expected, on average the runs with higher depths yield better approximation ratio (with some outliers, of course). \n",
    "\n",
    "The ``print('RND')`` was used because since the 0.4 update we have also included the [TQA warm-start initialization](https://arxiv.org/abs/2101.05742), which can be used within the [benchmark](/reference/qrisp.qaoa.QAOAProblem.benchmark) method by setting ``init_type='tqa'``. Let's try benchmarking this approach as well:"
   ]
  },
  {
   "cell_type": "code",
   "execution_count": 30,
   "id": "b00fb149",
   "metadata": {},
   "outputs": [
    {
     "name": "stdout",
     "output_type": "stream",
     "text": [
      "TQA\n",
      "Rank  approx_ratio Overall QV   p    QC depth   QB count  Shots   Iterations         \u001b[2K\u001b[2K\u001b[2K\u001b[2K\u001b[2K\u001b[2K\u001b[2K\u001b[2K\u001b[2K\u001b[2K\u001b[2K\u001b[2K\u001b[2K\u001b[2K\u001b[2K\u001b[2K\u001b[2K\u001b[2K\u001b[2K\u001b[2K\u001b[2K\u001b[2K\u001b[2K\u001b[2K\u001b[2K\u001b[2K\u001b[2K\u001b[2K\u001b[2K\u001b[2K\u001b[2K\u001b[2K\u001b[2K\u001b[2K\u001b[2K\u001b[2K\u001b[2K\u001b[2K\u001b[2K\u001b[2K\u001b[2K\u001b[2K\u001b[2K\u001b[2K\u001b[2K\u001b[2K\u001b[2K\u001b[2K\u001b[2K\u001b[2K\u001b[2K\u001b[2K\u001b[2K\u001b[2K\u001b[2K\u001b[2K\u001b[2K\u001b[2K\u001b[2K\u001b[2K\u001b[2K\u001b[2K\u001b[2K\u001b[2K\u001b[2K\u001b[2K\u001b[2K\u001b[2K\u001b[2K\u001b[2K\u001b[2K\u001b[2K\u001b[2K\u001b[2K\u001b[2K\u001b[2K\u001b[2K\u001b[2K\u001b[2K\u001b[2K\u001b[2K\u001b[2K\u001b[2K\u001b[2K\u001b[2K\u001b[2K\u001b[2K\u001b[2K\u001b[2K\u001b[2K\u001b[2K\u001b[2K\n",
      "============================================================================\n",
      "0     0.992e+0     5.4000e+8    5    54         5         10000   200       \n",
      "1     0.990e+0     2.2000e+8    4    44         5         10000   100       \n",
      "2     0.988e+0     2.2000e+7    4    44         5         1000    100       \n",
      "3     0.988e+0     4.4000e+8    4    44         5         10000   200       \n",
      "4     0.986e+0     1.7000e+7    3    34         5         1000    100       \n",
      "5     0.983e+0     4.4000e+7    4    44         5         1000    200       \n",
      "6     0.976e+0     2.7000e+8    5    54         5         10000   100       \n",
      "7     0.967e+0     1.7000e+8    3    34         5         10000   100       \n",
      "8     0.951e+0     5.4000e+7    5    54         5         1000    200       \n",
      "9     0.950e+0     3.4000e+8    3    34         5         10000   200       \n",
      "10    0.949e+0     2.7000e+7    5    54         5         1000    100       \n",
      "11    0.929e+0     2.4000e+7    2    24         5         1000    200       \n",
      "12    0.929e+0     1.2000e+8    2    24         5         10000   100       \n",
      "13    0.925e+0     1.2000e+7    2    24         5         1000    100       \n",
      "14    0.919e+0     2.4000e+8    2    24         5         10000   200       \n",
      "15    0.910e+0     3.4000e+7    3    34         5         1000    200       \n",
      "16    0.731e+0     7.0000e+6    1    14         5         1000    100       \n",
      "17    0.720e+0     7.0000e+7    1    14         5         10000   100       \n",
      "18    0.715e+0     1.4000e+8    1    14         5         10000   200       \n",
      "19    0.709e+0     1.4000e+7    1    14         5         1000    200       \n",
      "Approximation ratio:  0.9102991666666664\n",
      "Variance:  0.009825739846527796\n"
     ]
    }
   ],
   "source": [
    "print('TQA')\n",
    "\n",
    "benchmark_data = maxcut_instance.benchmark(qarg = QuantumVariable(len(G)),\n",
    "                        depth_range = [1,2,3,4,5],\n",
    "                        shot_range = [1000, 10000],\n",
    "                        iter_range = [100, 200],\n",
    "                        optimal_solution = '00011',\n",
    "                        repetitions = 1,\n",
    "                        init_type='tqa'\n",
    "                        )\n",
    "\n",
    "temp = benchmark_data.rank(print_res = True)\n",
    "\n",
    "_,tqaFO=benchmark_data.evaluate()\n",
    "\n",
    "print('Approximation ratio: ',sum(tqaFO)/len(tqaFO))\n",
    "print(\"Variance: \",np.var(tqaFO))"
   ]
  },
  {
   "cell_type": "markdown",
   "id": "33545a4c",
   "metadata": {},
   "source": [
    "Again, since QAOA is probabilistic, every run returns different results."
   ]
  },
  {
   "cell_type": "markdown",
   "id": "384f4279",
   "metadata": {},
   "source": [
    "As we can see, the TQA initialization tends to return better approximation ratios more consistently. Feel free to play around with the [benchmark](/reference/qrisp.qaoa.QAOAProblem.benchmark) method (or leave it running over night) to try and compare the two approaches further."
   ]
  },
  {
   "cell_type": "markdown",
   "id": "9c448a48",
   "metadata": {},
   "source": [
    "## Summary and motivation\n",
    "\n",
    "To shortly summarize, in order to implement QAOA with QAOAProblem one needs to specify the problem using the following recipe \n",
    "\n",
    "I. define **CLASSICAL COST FUNCTION** of the problem you want to implement: ``maxcut_cost_funct(counts)``, \n",
    "II. define the **INITIAL STATE** if it is not the superposition, which is set by default,  \n",
    "III. define **COST OPERATOR aka PHASE SEPARATOR** (or use the ones specified in [From QAOA to QAOA](https://arxiv.org/abs/1709.03489)) like ``apply_cost_operator`` above, and \n",
    "IV. select **MIXER** from the [assortment we provide and list here](/reference/MIXers).\n",
    "\n",
    "Let's condense all of the above, and implement QAOA for MaxCut one last time in one block of code"
   ]
  },
  {
   "cell_type": "code",
   "execution_count": 31,
   "id": "38266ab8",
   "metadata": {},
   "outputs": [
    {
     "name": "stdout",
     "output_type": "stream",
     "text": [
      "QAOA solution:  11100                                                                \u001b[2K\u001b[2K\n"
     ]
    },
    {
     "data": {
      "image/png": "[encoded data removed]",
      "text/plain": [
       "<Figure size 640x480 with 1 Axes>"
      ]
     },
     "metadata": {},
     "output_type": "display_data"
    }
   ],
   "source": [
    "from qrisp import QuantumArray, QuantumVariable\n",
    "from qrisp.qaoa import QAOAProblem, maxcut_obj, create_maxcut_cl_cost_function, create_maxcut_cost_operator, RX_mixer\n",
    "import networkx as nx\n",
    "from operator import itemgetter\n",
    "\n",
    "G = nx.Graph()\n",
    "G.add_edges_from([[0,3],[0,4],[1,3],[1,4],[2,3],[2,4]])\n",
    "\n",
    "qarg = QuantumVariable(len(G))\n",
    "\n",
    "depth = 5\n",
    "\n",
    "maxcut_instance = QAOAProblem(create_maxcut_cost_operator(G), RX_mixer, create_maxcut_cl_cost_function(G))\n",
    "\n",
    "res = maxcut_instance.run(qarg, depth, max_iter = 50)\n",
    "\n",
    "best_cut, best_solution = min([(maxcut_obj(x,G),x) for x in res.keys()], key=itemgetter(0))\n",
    "\n",
    "res_str = list(res.keys())[0]\n",
    "print(\"QAOA solution: \", res_str)\n",
    "best_cut, best_solution = (maxcut_obj(res_str,G),res_str)\n",
    "\n",
    "colors = ['r' if best_solution[node] == '0' else 'b' for node in G]\n",
    "nx.draw(G,node_color = colors, pos=nx.bipartite_layout(G, [0,1,2]))"
   ]
  },
  {
   "cell_type": "markdown",
   "id": "a6514969",
   "metadata": {},
   "source": [
    "You've got to admit that this is pretty cool, clean and qrispy, right?! \n",
    "\n",
    "If you are still not convinced, we provide a more complex problem instance in the next tutorial while also showcasing and putting some unique functionalities of Qrisp to the test. Let's make this transition a little more dramatic by saying that it's time to put our money where out mouths are (this is funny, because Qrisp is open source) and put this recipe to the test tackling the problem class which generalizes MaxCut: [Max-$\\kappa$-Colorable Subgraph](/reference/MkCSQAOA)."
   ]
  }
 ],
 "metadata": {
  "kernelspec": {
   "display_name": ".venv",
   "language": "python",
   "name": "python3"
  },
  "language_info": {
   "codemirror_mode": {
    "name": "ipython",
    "version": 3
   },
   "file_extension": ".py",
   "mimetype": "text/x-python",
   "name": "python",
   "nbconvert_exporter": "python",
   "pygments_lexer": "ipython3",
   "version": "3.11.9"
  }
 },
 "nbformat": 4,
 "nbformat_minor": 5
}
