{
 "cells": [
  {
   "cell_type": "markdown",
   "id": "dca67693",
   "metadata": {},
   "source": [
    "# Solving linear system problems with HHL\n",
    "\n",
    "The Harrow-Hassidim-Lloyd (HHL) quantum algorithm offers an exponential speed-up over classical methods for solving linear system problems $Ax=b$ for certain sparse matrices $A$. \n",
    "\n",
    "The implementation features hybrid quantum-classical workflows and is compiled using [Catalyst](https://docs.pennylane.ai/projects/catalyst/en/stable/index.html), a quantum just-in-time (QJIT) compiler framework.\n",
    "\n",
    "The goal of this demo is to showcase how Qrisp and Catalyst complement each other for implemententing advanced quantum algorithms and compling them for practically relevant problem sizes through the Jasp compilation pipeline."
   ]
  },
  {
   "cell_type": "markdown",
   "id": "7b2fc5f6",
   "metadata": {},
   "source": [
    "## HHL algorithm in theory\n",
    "\n",
    "Given an $N$-by-$N$ Hermitian matrix $A$ and an $N$-dimensional vector $b$, the Quantum Linear Systems Problem (QSLP) consists of preparing a quantum state $\\ket{x}$ with amplitudes proportional to the solution $x$ of the linear system of equations $Ax=b$. \n",
    "Thereby, it can exhibit an exponential speedup over classical methods for certain sparse matrices $A$. The HHL quantum algorithm and, more generally, quantum linear systems algorithms, hold significant promise for accelerating computations in fields that rely \n",
    "heavily on solving linear systems of equations, such as [solving differential equations](https://arxiv.org/abs/2202.01054v4), or accelerating machine learning.\n",
    "\n",
    "In its eigenbasis, the matrix $A$ can be written as \n",
    "$$ A = \\sum_i \\lambda_i\\ket{u_i}\\bra{u_i} $$\n",
    "where $\\ket{u_i}$ is an eigenvector of $A$ corresponding to the eigenvalue $\\lambda_i$.\n",
    "\n",
    "We define the quantum states $\\ket{b}$ and $\\ket{x}$ as\n",
    "$$ \\ket{b} = \\dfrac{\\sum_i b_i\\ket{i}}{\\|\\sum_i b_i\\ket{i}\\|} = \\sum_i \\beta_i\\ket{u_i} \\quad\\text{and}\\quad \\ket{x} = \\dfrac{\\sum_i x_i\\ket{i}}{\\|\\sum_i x_i\\ket{i}\\|} = \\sum_i \\gamma_i\\ket{u_i} $$\n",
    "where $\\ket{b}$ and $\\ket{x}$ are expressed in the eigenbasis of $A$.\n",
    "\n",
    "Solving the linerar system amounts to\n",
    "$$\\begin{align}\\ket{x}&=A^{-1}\\ket{b}\\\\&=\\bigg(\\sum_{i=0}^{N-1}\\lambda_i^{-1}\\ket{u_i}\\bra{u_i}\\bigg)\\sum_j\\beta_j\\ket{u_j}\\\\&=\\sum_{i=0}^{N-1}\\lambda_i^{-1}\\beta_i\\ket{u_i}\\end{align}$$\n",
    "\n",
    "You might wonder why we can't just apply $A^{-1}$ directly to $\\ket{b}$? This is because, in general, the matix $A$ is not unitary. \n",
    "However, we will circumnavigate this by exploiting that the Hamiltonian evolution $U=e^{itA}$ is unitary for a Hemitian matrix $A$. And this brings us to the HHL algorithm."
   ]
  },
  {
   "cell_type": "markdown",
   "id": "beca2188",
   "metadata": {},
   "source": [
    "In theory, the HHL algorithm can be described as follows:\n",
    "\n",
    "* Step 1: We start by preparing the state \n",
    "  $$ \\ket{\\Psi_1} = \\ket{b} = \\sum_i \\beta_i\\ket{u_i}$$\n",
    "\n",
    "* Step 2: Applying quantum phase estimation with respect to the Hamiltonian evolution $U=e^{itA}$ yields the state \n",
    "  $$ \\ket{\\Psi_2} = \\sum_i \\beta_i\\ket{u_i}\\ket{\\lambda_it/2\\pi} = \\sum_i \\beta_i\\ket{u_i}\\ket{\\widetilde{\\lambda}_i} $$ \n",
    "  To simplify notation, we write $\\widetilde{\\lambda}_i=\\lambda_it/2\\pi$.\n",
    "  \n",
    "\n",
    "* Step 3: Performing the inversion of the eigenvalues $\\widetilde{\\lambda}_i\\rightarrow\\widetilde{\\lambda}_i^{-1}$ yields the state\n",
    "  $$ \\ket{\\Psi_3} = \\sum_i \\beta_i\\ket{u_i}\\ket{\\widetilde{\\lambda}_i}\\ket{\\widetilde{\\lambda}_i^{-1}} $$\n",
    "\n",
    "* Step 4: The amplitudes are multiplied by the inverse eigenvalues $\\widetilde{\\lambda}_i^{-1}$ to obtain the state\n",
    "  $$ \\ket{\\Psi_4} = \\sum_i \\lambda_i^{-1}\\beta_i\\ket{u_i}\\ket{\\widetilde{\\lambda}_i}\\ket{\\widetilde{\\lambda}_i^{-1}} $$\n",
    "  This is achieved by means of a repeat-until-success procedure that applies **Steps 1-3** as a subroutine. Stay tuned for more details below!\n",
    "\n",
    "\n",
    "* Step 5: As a final step, we uncompute the variables $\\ket{\\widetilde{\\lambda}^{-1}}$ and $\\ket{\\widetilde{\\lambda}}$, and obtain the state\n",
    "  $$ \\ket{\\Psi_5} = \\sum_i \\lambda_i^{-1}\\beta_i\\ket{u_i} = \\ket{x} $$\n",
    "\n",
    "And that's the HHL algorithm. The variable initialized in state $\\ket{b}$ is now found in state $\\ket{x}$! \n",
    "\n",
    "As shown in the [original paper](https://arxiv.org/pdf/0811.3171), the runtime of this algorithm is $\\mathcal{O}(\\log(N)s^2\\kappa^2/\\epsilon)$ \n",
    "where $s$ and $\\kappa$ are the sparsity and condition number of the matrix $A$, respectively, and $\\epsilon$ is the precison of the solution. The logarithmic dependence on the dimension $N$ is the source of an exponential advantage over classical methods."
   ]
  },
  {
   "cell_type": "markdown",
   "id": "9f50328f",
   "metadata": {},
   "source": [
    "## HHL implementation in practice\n",
    "\n",
    "Let's put theory into practice and dive into an implementation of the HHL algorithm.\n",
    "\n",
    "As a first step, we define a function `fake_inversion` that performs the inversion $\\lambda\\mapsto\\lambda^{-1}$. In this example, we restrict ourselves to an implementation that works for values $\\lambda=2^{-k}$ for $k\\in\\mathbb{N}$.\n",
    "(A general inversion is available in Qrisp and will soon be updated to be compatible with QJIT compilation!)"
   ]
  },
  {
   "cell_type": "code",
   "execution_count": 20,
   "id": "23a7d966",
   "metadata": {},
   "outputs": [],
   "source": [
    "from qrisp import *\n",
    "\n",
    "def fake_inversion(qf, res=None):\n",
    "    if res is None:\n",
    "        res = QuantumFloat(qf.size+1)\n",
    "\n",
    "    for i in jrange(qf.size):\n",
    "        cx(qf[i],res[qf.size-i])\n",
    "\n",
    "    return res"
   ]
  },
  {
   "cell_type": "markdown",
   "id": "d50f38c7",
   "metadata": {},
   "source": [
    "> **Note**: Essentially, the controlled-NOT operations in the loop reverse the positions of the bits in input variable and place them in the result variable in the opposite order. \n",
    "> For example, for $\\lambda=2^{-3}$, which is $0.001$ in binary, the function would produce $\\lambda^{-1}=2^3$, which in binary is 1000.\n",
    "\n",
    "Let's see if it works as intended!"
   ]
  },
  {
   "cell_type": "code",
   "execution_count": 21,
   "id": "684a6c4f",
   "metadata": {},
   "outputs": [
    {
     "name": "stdout",
     "output_type": "stream",
     "text": [
      "{(0.125, 8): 0.3333333333333333, (0.25, 4): 0.3333333333333333, (0.5, 2): 0.3333333333333333}\n"
     ]
    }
   ],
   "source": [
    "qf = QuantumFloat(3,-3)\n",
    "x(qf[2])\n",
    "dicke_state(qf, 1)\n",
    "res = fake_inversion(qf)\n",
    "print(multi_measurement([qf, res]))"
   ]
  },
  {
   "cell_type": "markdown",
   "id": "945547a0",
   "metadata": {},
   "source": [
    "Next, we define the function `HHL_encoding` that performs **Steps 1-4** and prepares the state $\\ket{\\Psi_4}$.\n",
    "But, how do we get the values $\\widetilde{\\lambda}^{-1}_i$ into the amplitudes of the states, i.e. how do we go from $\\ket{\\Psi_3}$ to $\\ket{\\Psi_4}$?\n",
    "\n",
    "Recently, efficient methods for black-box quantum state preparation that avoid arithmetic were proposed, see [Bausch](https://quantum-journal.org/papers/q-2022-08-04-773/#), [Sanders et al.](https://journals.aps.org/prl/abstract/10.1103/PhysRevLett.122.020502) In this demo, we use a routine proposed in the latter reference which is based on a comparison between integers. This is implemented via the aforementioned comparisons of QuantumFloats.\n",
    "\n",
    "To simplify the notation, we write $y^{(i)}=\\widetilde{\\lambda}^{-1}_i$. Recall that the values $y^{(i)}$ represent unsigned integers between $0$ and $2^n-1$. \n",
    "\n",
    "Starting from the state\n",
    "$$ \\ket{\\Psi_3} = \\sum_i \\beta_i\\ket{u_i}\\ket{\\widetilde{\\lambda}_i}\\ket{y^{(i)}}_{{\\text{res}}} $$\n",
    "\n",
    "we prepare a uniform superposition of $2^n$ states in a `case_indicator` QuantumFloat.\n",
    "$$ \\ket{\\Psi_3'} = \\sum_i \\beta_i\\ket{u_i}\\ket{\\widetilde{\\lambda}_i}\\ket{y^{(i)}}_{{\\text{res}}}\\otimes\\frac{1}{\\sqrt{2^n}}\\sum_{x=0}^{2^n-1}\\ket{x}_{{\\text{case}}} $$\n",
    "\n",
    "Next we calculate the comparison $a\\geq b$ between the `res` and the `case_indicator` into a QuantumBool `qbl`.\n",
    "$$ \\ket{\\Psi_3''} = \\sum_i \\beta_i\\ket{u_i}\\ket{\\widetilde{\\lambda}_i}\\ket{y^{(i)}}_{{\\text{res}}}\\otimes\\frac{1}{\\sqrt{2^n}}\\left(\\sum_{x=0}^{y^{(i)}-1}\\ket{x}_{{\\text{case}}}\\ket{0}_{{\\text{qbl}}} + \\sum_{x=y^{(i)}}^{2^n-1}\\ket{x}_{{\\text{case}}}\\ket{1}_{{\\text{qbl}}}\\right) $$\n",
    "\n",
    "Finally, the `case_indicator` is unprepared with $n$ Hadamards and we obtain the state\n",
    "$$ \\ket{\\Psi_3'''} = \\sum_i \\dfrac{y^{(i)}}{2^n}\\beta_i\\ket{u_i}\\ket{\\widetilde{\\lambda}_i}\\ket{y^{(i)}}_{{\\text{res}}}\\ket{0}_{{\\text{case}}}\\ket{0}_{{\\text{qbl}}} + \\ket{\\Phi} $$\n",
    "\n",
    "where $\\ket{\\Phi}$ is an orthogonal state with the last variables not in $\\ket{0}_{\\text{case}}\\ket{0}_{\\text{qbl}}$.\n",
    "\n",
    "Hence, upon measuring the `case_indicator` in state $\\ket{0}$ and the target `qbl` in state $\\ket{0}$, the desired state is prepared. \n",
    "\n",
    "**Steps 1-4** are preformed as a repeat-until-success (RUS) routine. This decorator converts the function to be executed within a repeat-until-success (RUS) procedure. The function must return a boolean value as first return value and is repeatedly executed until the first return value is True."
   ]
  },
  {
   "cell_type": "code",
   "execution_count": 22,
   "id": "338702b1",
   "metadata": {},
   "outputs": [],
   "source": [
    "import qrisp\n",
    "@RUS(static_argnums = [0,1])\n",
    "def HHL_encoding(b, hamiltonian_evolution, n, precision):\n",
    "\n",
    "    # Prepare the state |b>. Step 1\n",
    "    qf = QuantumFloat(n)\n",
    "    # Reverse the endianness for compatibility with Hamiltonian simulation.\n",
    "    prepare(qf, b, reversed=True)\n",
    "\n",
    "    qpe_res = QPE(qf, hamiltonian_evolution, precision=precision) # Step 2\n",
    "    inv_res = fake_inversion(qpe_res) # Step 3\n",
    "\n",
    "    case_indicator = QuantumFloat(inv_res.size)\n",
    "\n",
    "    with conjugate(qrisp.h)(case_indicator):\n",
    "        qbl = (case_indicator >= inv_res)\n",
    "    \n",
    "    cancellation_bool = (measure(case_indicator) == 0) & (measure(qbl) == 0)\n",
    "\n",
    "    # The first return value is a boolean. Additional return values are QuantumVariables.\n",
    "    return cancellation_bool, qf, qpe_res, inv_res"
   ]
  },
  {
   "cell_type": "markdown",
   "id": "9132e3cb",
   "metadata": {},
   "source": [
    "The probability of success could be further increased by oblivious amplitude amplification in order to obain an optimal asymptotic scaling.\n",
    "\n",
    "Finally, we put all things together into the **HHL** function.\n",
    "\n",
    "This function takes the follwoing arguments:\n",
    "\n",
    "* `b` The vector $b$.\n",
    "* `hamiltonian_evolution` A function performing hamiltonian_evolution $e^{itA}$.\n",
    "* `n` The number of qubits encoding the state $\\ket{b}$ ($N=2^n$).\n",
    "* `precision` The precison of the quantum phase estimation.\n",
    "\n",
    "The HHL function uses the previously defined subroutine to prepare the state $\\ket{\\Psi_4}$ and subsequently uncomputes the $\\ket{\\widetilde{\\lambda}}$ and $\\ket{\\lambda}$ quantum variables leaving the first variable, \n",
    "that was initialized in state $\\ket{b}$, in the target state $\\ket{x}$."
   ]
  },
  {
   "cell_type": "code",
   "execution_count": 23,
   "id": "0e2ccb91",
   "metadata": {},
   "outputs": [],
   "source": [
    "def HHL(b, hamiltonian_evolution, n, precision):\n",
    "\n",
    "    qf, qpe_res, inv_res = HHL_encoding(b, hamiltonian_evolution, n, precision)\n",
    "    \n",
    "    with invert():\n",
    "        QPE(qf, hamiltonian_evolution, target=qpe_res)\n",
    "        fake_inversion(qpe_res, res=inv_res)\n",
    "\n",
    "    # Reverse the endianness for compatibility with Hamiltonian simulation.\n",
    "    for i in jrange(qf.size//2):\n",
    "        swap(qf[i],qf[n-i-1])\n",
    "    \n",
    "    return qf"
   ]
  },
  {
   "cell_type": "markdown",
   "id": "8084ca6b",
   "metadata": {},
   "source": [
    "## Applying HHL to solve systems of linear equations\n",
    "\n",
    "Let's try a first simple example. First, the matrix $A$ is repesented as a Pauli operator $H$ and the Hamiltonian evolution unitary $U=e^{itH}$ is obtained by trotterization with 1 step \n",
    "(as the Pauli terms commute in this case). We choose $t=\\pi$ to ensure that $\\widetilde{\\lambda}_i=\\lambda_i t/2\\pi$ are of the form $2^{-k}$ for a positive integer $k$.\n",
    "\n",
    "This is enabled by the Qrisp's QubitOperator class providing the tools to describe, optimize and efficiently simulate quantum Hamiltonians."
   ]
  },
  {
   "cell_type": "code",
   "execution_count": 24,
   "id": "ceafaee3",
   "metadata": {},
   "outputs": [],
   "source": [
    "from qrisp.operators import QubitOperator\n",
    "import numpy as np\n",
    "\n",
    "A = np.array([[3/8, 1/8], \n",
    "              [1/8, 3/8]])\n",
    "\n",
    "b = np.array([1,1])\n",
    "\n",
    "H = QubitOperator.from_matrix(A).to_pauli()\n",
    "\n",
    "# By default e^{-itH} is performed. Therefore, we set t=-pi.\n",
    "def U(qf):\n",
    "    H.trotterization()(qf,t=-np.pi,steps=1)"
   ]
  },
  {
   "cell_type": "markdown",
   "id": "da1a6f84",
   "metadata": {},
   "source": [
    "The `terminal_sampling` decorator performs a hybrid simulation and afterwards samples from the resulting quantum state. We convert the resulting measurement probabilities \n",
    "to amplitudes by appling the square root. Note that, minus signs of amplitudes cannot be recovered from measurement probabilities."
   ]
  },
  {
   "cell_type": "code",
   "execution_count": 25,
   "id": "e4303530",
   "metadata": {},
   "outputs": [
    {
     "name": "stdout",
     "output_type": "stream",
     "text": [
      "{0.0: 0.7071067811865476, 1.0: 0.7071067811865476}                                   \u001b[2K\u001b[2K\u001b[2K\u001b[2K\n"
     ]
    }
   ],
   "source": [
    "@terminal_sampling\n",
    "def main():\n",
    "\n",
    "    x = HHL(tuple(b), U, 1, 3)\n",
    "    return x\n",
    "\n",
    "res_dict = main()\n",
    "\n",
    "for k, v in res_dict.items():\n",
    "    res_dict[k] = v**0.5\n",
    "\n",
    "print(res_dict)"
   ]
  },
  {
   "cell_type": "markdown",
   "id": "5ab066fe",
   "metadata": {},
   "source": [
    "Finally, let's compare to the classical result."
   ]
  },
  {
   "cell_type": "code",
   "execution_count": 26,
   "id": "f60f6c40",
   "metadata": {},
   "outputs": [
    {
     "name": "stdout",
     "output_type": "stream",
     "text": [
      "[0.70710678 0.70710678]\n"
     ]
    }
   ],
   "source": [
    "x = (np.linalg.inv(A)@b)/np.linalg.norm(np.linalg.inv(A)@b)\n",
    "print(x)"
   ]
  },
  {
   "cell_type": "markdown",
   "id": "85e16fe0",
   "metadata": {},
   "source": [
    "And voila! Now, let's tackle some more complicated examples! Next, we try some randomly generated matrices whose eigenvalues are inverse powers of 2, i.e. of the form $2^{-k}$ for $k<K$.\n",
    "\n",
    "To facilitate fast simulations, we restrict ourselves to $K=4$ (required `precision` of QPE) as the runtime of the HHL algorithm scales linearly in the inverse precision $\\epsilon=2^{-K}$ (and therefore exponentially in $K$)."
   ]
  },
  {
   "cell_type": "code",
   "execution_count": 27,
   "id": "f922ac48",
   "metadata": {},
   "outputs": [
    {
     "name": "stdout",
     "output_type": "stream",
     "text": [
      "Hermitian matrix A:\n",
      "[[ 0.22862321 -0.00607924 -0.02401742 -0.03123366  0.02414751 -0.04354368\n",
      "   0.00448535  0.00627139]\n",
      " [-0.00607924  0.31141057  0.0684337   0.05156554 -0.10634693 -0.0228224\n",
      "  -0.04326679 -0.04537255]\n",
      " [-0.02401742  0.0684337   0.29388277  0.0213422   0.05310371 -0.11756531\n",
      "   0.01624848 -0.04019696]\n",
      " [-0.03123366  0.05156554  0.0213422   0.26782477 -0.09188877 -0.0463328\n",
      "  -0.04618022 -0.02479065]\n",
      " [ 0.02414751 -0.10634693  0.05310371 -0.09188877  0.30076226 -0.05857047\n",
      "   0.04608575 -0.02995796]\n",
      " [-0.04354368 -0.0228224  -0.11756531 -0.0463328  -0.05857047  0.28977557\n",
      "  -0.04433725  0.06229082]\n",
      " [ 0.00448535 -0.04326679  0.01624848 -0.04618022  0.04608575 -0.04433725\n",
      "   0.27784621 -0.01150056]\n",
      " [ 0.00627139 -0.04537255 -0.04019696 -0.02479065 -0.02995796  0.06229082\n",
      "  -0.01150056  0.27987463]]\n",
      "Eigenvalues:\n",
      "[0.125 0.25  0.5   0.5   0.125 0.25  0.25  0.25 ]\n",
      "b:\n",
      "[1 1 1 1 0 0 0 1]\n"
     ]
    }
   ],
   "source": [
    "def hermitian_matrix_with_power_of_2_eigenvalues(n):\n",
    "    # Generate eigenvalues as inverse powers of 2.\n",
    "    eigenvalues = 1/np.exp2(np.random.randint(1, 4, size=n))\n",
    "    \n",
    "    # Generate a random unitary matrix.\n",
    "    Q, _ = np.linalg.qr(np.random.randn(n, n))\n",
    "    \n",
    "    # Construct the Hermitian matrix.\n",
    "    A = Q @ np.diag(eigenvalues) @ Q.conj().T\n",
    "    \n",
    "    return A\n",
    "\n",
    "# Example \n",
    "n = 3\n",
    "A = hermitian_matrix_with_power_of_2_eigenvalues(2**n)\n",
    "\n",
    "H = QubitOperator.from_matrix(A).to_pauli()\n",
    "\n",
    "def U(qf):\n",
    "    H.trotterization()(qf,t=-np.pi,steps=5)\n",
    "\n",
    "b = np.random.randint(0, 2, size=2**n)\n",
    "\n",
    "print(\"Hermitian matrix A:\")\n",
    "print(A)\n",
    "\n",
    "print(\"Eigenvalues:\")\n",
    "print(np.linalg.eigvals(A))\n",
    "\n",
    "print(\"b:\")\n",
    "print(b)"
   ]
  },
  {
   "cell_type": "code",
   "execution_count": 28,
   "id": "2c548c3e",
   "metadata": {},
   "outputs": [
    {
     "name": "stdout",
     "output_type": "stream",
     "text": [
      "                                                                                     \u001b[2K\r"
     ]
    },
    {
     "data": {
      "text/plain": [
       "array([0.49846514, 0.30193447, 0.34968244, 0.47622512, 0.22800623,\n",
       "       0.29567265, 0.1231846 , 0.3958741 ])"
      ]
     },
     "execution_count": 28,
     "metadata": {},
     "output_type": "execute_result"
    }
   ],
   "source": [
    "@terminal_sampling\n",
    "def main():\n",
    "\n",
    "    x = HHL(tuple(b), U, n, 4)\n",
    "    return x\n",
    "\n",
    "res_dict = main()\n",
    "\n",
    "for k, v in res_dict.items():\n",
    "    res_dict[k] = v**0.5\n",
    "\n",
    "np.array([res_dict[key] for key in sorted(res_dict)])"
   ]
  },
  {
   "cell_type": "markdown",
   "id": "0eaec520",
   "metadata": {},
   "source": [
    "Let's compare to the classical solution:"
   ]
  },
  {
   "cell_type": "code",
   "execution_count": 29,
   "id": "1d6c3f7c",
   "metadata": {},
   "outputs": [
    {
     "name": "stdout",
     "output_type": "stream",
     "text": [
      "[0.49912593 0.30065328 0.3489454  0.47620804 0.22836473 0.29629679\n",
      " 0.12329741 0.39597909]\n"
     ]
    }
   ],
   "source": [
    "x = (np.linalg.inv(A)@b)/np.linalg.norm(np.linalg.inv(A)@b)\n",
    "print(x)"
   ]
  },
  {
   "cell_type": "markdown",
   "id": "a9e1d32b",
   "metadata": {},
   "source": [
    "Yup, close enough... That's all folks!\n",
    "\n",
    "## Step-by-step recap\n",
    "\n",
    "Let's rewind for a second, take a deep breath, and go through the steps and concepts you learned so far.\n",
    "\n",
    "Equipped with a theoretical introduction to HHL and outlining the steps required to perform this algorithm, you got to see how to first encode the first 4 steps and making use of the repeat until success feature of Jasp.\n",
    "Then, putting everything together, we combined the previously defined building blocks (read: Python functions) - the HHL_encoding and QPE - into a simple function. With a brief feature apperance of Hamiltonian simulation you then successfully managed to solve two systems of linear equations.\n",
    "\n",
    "In conclusion, let's take a moment to appreciate one last time how elegantly we can call the HHL algorithm:\n",
    "\n",
    "```\n",
    "x = HHL(b, hamiltonian_evolution, n, precision)\n",
    "```"
   ]
  },
  {
   "cell_type": "markdown",
   "id": "3af57a00",
   "metadata": {},
   "source": [
    "As qrispy as always!"
   ]
  }
 ],
 "metadata": {
  "kernelspec": {
   "display_name": ".venv",
   "language": "python",
   "name": "python3"
  },
  "language_info": {
   "codemirror_mode": {
    "name": "ipython",
    "version": 3
   },
   "file_extension": ".py",
   "mimetype": "text/x-python",
   "name": "python",
   "nbconvert_exporter": "python",
   "pygments_lexer": "ipython3",
   "version": "3.11.9"
  }
 },
 "nbformat": 4,
 "nbformat_minor": 5
}
